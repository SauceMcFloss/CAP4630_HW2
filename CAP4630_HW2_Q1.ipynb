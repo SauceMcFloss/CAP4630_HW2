{
  "nbformat": 4,
  "nbformat_minor": 0,
  "metadata": {
    "colab": {
      "name": "CAP4630_HW2_Q1.ipynb",
      "provenance": [],
      "collapsed_sections": []
    },
    "kernelspec": {
      "name": "python3",
      "display_name": "Python 3"
    },
    "accelerator": "GPU"
  },
  "cells": [
    {
      "cell_type": "markdown",
      "metadata": {
        "id": "rt44vyY1xW9b",
        "colab_type": "text"
      },
      "source": [
        "# Classification of MNIST digits with dense layers"
      ]
    },
    {
      "cell_type": "markdown",
      "metadata": {
        "id": "yH1EOQd6R2uQ",
        "colab_type": "text"
      },
      "source": [
        "## Loading the image data"
      ]
    },
    {
      "cell_type": "code",
      "metadata": {
        "id": "FSJyddqGexl5",
        "colab_type": "code",
        "colab": {}
      },
      "source": [
        "from keras.datasets import mnist\n",
        "\n",
        "(train_images_original, train_labels_original), (test_images_original, test_labels_original) = mnist.load_data()"
      ],
      "execution_count": 0,
      "outputs": []
    },
    {
      "cell_type": "markdown",
      "metadata": {
        "id": "91gu7qVhR6eX",
        "colab_type": "text"
      },
      "source": [
        "## Preparing the image data"
      ]
    },
    {
      "cell_type": "code",
      "metadata": {
        "id": "3UuJmDovTZlO",
        "colab_type": "code",
        "colab": {}
      },
      "source": [
        "import numpy as np\n",
        "import matplotlib.pyplot as plt"
      ],
      "execution_count": 0,
      "outputs": []
    },
    {
      "cell_type": "code",
      "metadata": {
        "id": "UB7_xf0hzsPx",
        "colab_type": "code",
        "colab": {}
      },
      "source": [
        "train_images = train_images_original.reshape((60000, 28 , 28))\n",
        "train_images = train_images.astype('float64') / 255\n",
        "\n",
        "test_images = test_images_original.reshape((10000, 28 , 28))\n",
        "test_images = test_images.astype('float64') / 255\n",
        "\n",
        "avg_features = np.zeros((1, 28), dtype='float64')\n",
        "train_features = np.zeros((60000, 29), dtype='float64')\n",
        "test_features = np.zeros((10000, 29), dtype='float64')\n",
        "heights = np.zeros((1, 2), dtype='float64')\n",
        "height = np.zeros((1, 1), dtype='float64')"
      ],
      "execution_count": 0,
      "outputs": []
    },
    {
      "cell_type": "markdown",
      "metadata": {
        "id": "zKsKwWVM7XnD",
        "colab_type": "text"
      },
      "source": [
        "###Train"
      ]
    },
    {
      "cell_type": "code",
      "metadata": {
        "id": "4kEFLNLaxVj9",
        "colab_type": "code",
        "colab": {}
      },
      "source": [
        "index = 0\n",
        "\n",
        "found = False\n",
        "for image in train_images:\n",
        "  avg_features = np.mean(image, axis = 0) + np.mean(image, axis = 1)\n",
        "  \n",
        "  #top left\n",
        "  for i in range(28):\n",
        "    for j in range(28):\n",
        "      if(image[i][j] == 0):\n",
        "        continue\n",
        "      else:\n",
        "        heights[0][0] = i\n",
        "        found = True\n",
        "        break\n",
        "    if(found):\n",
        "      found = False\n",
        "      break\n",
        "  \n",
        "  #bottom right\n",
        "  for i in reversed(range(28)):\n",
        "    for j in reversed(range(28)):\n",
        "      if(image[i][j] == 0):\n",
        "        continue\n",
        "      else:\n",
        "        heights[0][1] = i\n",
        "        found = True\n",
        "        break\n",
        "    if(found):\n",
        "      found = False\n",
        "      break\n",
        "\n",
        "  height[0][0] = heights[0][1] - heights[0][0] + 1.0000\n",
        "  temp_array = np.concatenate((avg_features, height), axis = None)\n",
        "  train_features[index] = temp_array\n",
        "  heights[0][0] = 0\n",
        "  heights[0][1] = 0\n",
        "\n",
        "  index += 1"
      ],
      "execution_count": 0,
      "outputs": []
    },
    {
      "cell_type": "markdown",
      "metadata": {
        "id": "UNAdzfYZ7a9L",
        "colab_type": "text"
      },
      "source": [
        "###Test"
      ]
    },
    {
      "cell_type": "code",
      "metadata": {
        "id": "3DpCzuJwqBLw",
        "colab_type": "code",
        "colab": {}
      },
      "source": [
        "index = 0\n",
        "\n",
        "found = False\n",
        "for image in test_images:\n",
        "  avg_features = np.mean(image, axis = 0) + np.mean(image, axis = 1)\n",
        "  \n",
        "  #top left\n",
        "  for i in range(28):\n",
        "    for j in range(28):\n",
        "      if(image[i][j] == 0):\n",
        "        continue\n",
        "      else:\n",
        "        heights[0][0] = i\n",
        "        found = True\n",
        "        break\n",
        "    if(found):\n",
        "      found = False\n",
        "      break\n",
        "  \n",
        "  #bottom right\n",
        "  for i in reversed(range(28)):\n",
        "    for j in reversed(range(28)):\n",
        "      if(image[i][j] == 0):\n",
        "        continue\n",
        "      else:\n",
        "        heights[0][1] = i\n",
        "        found = True\n",
        "        break\n",
        "    if(found):\n",
        "      found = False\n",
        "      break\n",
        "\n",
        "  height[0][0] = heights[0][1] - heights[0][0] + 1.0000\n",
        "  temp_array = np.concatenate((avg_features, height), axis = None)\n",
        "  test_features[index] = temp_array\n",
        "  heights[0][0] = 0\n",
        "  heights[0][1] = 0\n",
        "\n",
        "  index += 1"
      ],
      "execution_count": 0,
      "outputs": []
    },
    {
      "cell_type": "code",
      "metadata": {
        "id": "VxfkTD19APYm",
        "colab_type": "code",
        "outputId": "9fa7d134-ffa4-4540-fd00-447068b8fb4e",
        "colab": {
          "base_uri": "https://localhost:8080/",
          "height": 119
        }
      },
      "source": [
        "test_features[0]"
      ],
      "execution_count": 20,
      "outputs": [
        {
          "output_type": "execute_result",
          "data": {
            "text/plain": [
              "array([ 0.        ,  0.        ,  0.        ,  0.        ,  0.        ,\n",
              "        0.        ,  0.0522409 ,  0.1719888 ,  0.5280112 ,  0.51036415,\n",
              "        0.24565826,  0.27983193,  0.32843137,  0.36092437,  0.30896359,\n",
              "        0.28501401,  0.29845938,  0.30952381,  0.29971989,  0.30266106,\n",
              "        0.24201681,  0.13151261,  0.08753501,  0.09705882,  0.12086835,\n",
              "        0.12436975,  0.08403361,  0.        , 20.        ])"
            ]
          },
          "metadata": {
            "tags": []
          },
          "execution_count": 20
        }
      ]
    },
    {
      "cell_type": "markdown",
      "metadata": {
        "id": "HwRvZSOvSzXx",
        "colab_type": "text"
      },
      "source": [
        "## Preparing the labels\n",
        "\n",
        "We need to categorically encode the labels."
      ]
    },
    {
      "cell_type": "code",
      "metadata": {
        "id": "C1ulkKRPSgJP",
        "colab_type": "code",
        "colab": {}
      },
      "source": [
        "from keras.utils import to_categorical\n",
        "\n",
        "train_labels = to_categorical(train_labels_original)\n",
        "test_labels = to_categorical(test_labels_original)"
      ],
      "execution_count": 0,
      "outputs": []
    },
    {
      "cell_type": "markdown",
      "metadata": {
        "id": "36YichvkWfgL",
        "colab_type": "text"
      },
      "source": [
        "## The network architecture"
      ]
    },
    {
      "cell_type": "code",
      "metadata": {
        "id": "J1ggKa17T2s5",
        "colab_type": "code",
        "outputId": "bf7b5a74-b527-43eb-c8fd-4d89a37b0c12",
        "colab": {
          "base_uri": "https://localhost:8080/",
          "height": 221
        }
      },
      "source": [
        "from keras import models\n",
        "from keras import layers\n",
        "\n",
        "network = models.Sequential()\n",
        "network.add(layers.Dense(512, activation='relu', input_shape=(29,)))\n",
        "network.add(layers.Dense(10, activation='softmax'))\n",
        "network.summary()"
      ],
      "execution_count": 22,
      "outputs": [
        {
          "output_type": "stream",
          "text": [
            "Model: \"sequential_2\"\n",
            "_________________________________________________________________\n",
            "Layer (type)                 Output Shape              Param #   \n",
            "=================================================================\n",
            "dense_3 (Dense)              (None, 512)               15360     \n",
            "_________________________________________________________________\n",
            "dense_4 (Dense)              (None, 10)                5130      \n",
            "=================================================================\n",
            "Total params: 20,490\n",
            "Trainable params: 20,490\n",
            "Non-trainable params: 0\n",
            "_________________________________________________________________\n"
          ],
          "name": "stdout"
        }
      ]
    },
    {
      "cell_type": "markdown",
      "metadata": {
        "id": "8H6VF7ZIY6Oy",
        "colab_type": "text"
      },
      "source": [
        "## The compilation step"
      ]
    },
    {
      "cell_type": "code",
      "metadata": {
        "id": "mHp0sz7cYPsK",
        "colab_type": "code",
        "colab": {}
      },
      "source": [
        "network.compile(optimizer='rmsprop',\n",
        "                loss='categorical_crossentropy',\n",
        "                metrics=['accuracy'])"
      ],
      "execution_count": 0,
      "outputs": []
    },
    {
      "cell_type": "markdown",
      "metadata": {
        "id": "3SnwsJAtZtYx",
        "colab_type": "text"
      },
      "source": [
        "## The training step"
      ]
    },
    {
      "cell_type": "code",
      "metadata": {
        "id": "2YuVq3JIZksS",
        "colab_type": "code",
        "outputId": "3fa33a76-ca6e-4d29-b0fd-df9eaf83bf81",
        "colab": {
          "base_uri": "https://localhost:8080/",
          "height": 714
        }
      },
      "source": [
        "epochs = 20\n",
        "history = network.fit(train_features, \n",
        "                      train_labels, \n",
        "                      epochs=epochs, \n",
        "                      batch_size=128, \n",
        "                      validation_data=(test_features, test_labels))"
      ],
      "execution_count": 24,
      "outputs": [
        {
          "output_type": "stream",
          "text": [
            "Train on 60000 samples, validate on 10000 samples\n",
            "Epoch 1/20\n",
            "60000/60000 [==============================] - 2s 27us/step - loss: 1.5748 - acc: 0.4861 - val_loss: 1.2225 - val_acc: 0.6073\n",
            "Epoch 2/20\n",
            "60000/60000 [==============================] - 1s 23us/step - loss: 1.1700 - acc: 0.6181 - val_loss: 1.1310 - val_acc: 0.6313\n",
            "Epoch 3/20\n",
            "60000/60000 [==============================] - 1s 24us/step - loss: 1.0879 - acc: 0.6435 - val_loss: 1.0328 - val_acc: 0.6580\n",
            "Epoch 4/20\n",
            "60000/60000 [==============================] - 1s 23us/step - loss: 1.0250 - acc: 0.6630 - val_loss: 0.9823 - val_acc: 0.6732\n",
            "Epoch 5/20\n",
            "60000/60000 [==============================] - 1s 24us/step - loss: 0.9729 - acc: 0.6761 - val_loss: 0.9528 - val_acc: 0.6779\n",
            "Epoch 6/20\n",
            "60000/60000 [==============================] - 1s 24us/step - loss: 0.9296 - acc: 0.6914 - val_loss: 0.9003 - val_acc: 0.6930\n",
            "Epoch 7/20\n",
            "60000/60000 [==============================] - 1s 24us/step - loss: 0.8960 - acc: 0.7026 - val_loss: 0.8764 - val_acc: 0.7120\n",
            "Epoch 8/20\n",
            "60000/60000 [==============================] - 1s 25us/step - loss: 0.8688 - acc: 0.7121 - val_loss: 0.8420 - val_acc: 0.7130\n",
            "Epoch 9/20\n",
            "60000/60000 [==============================] - 1s 24us/step - loss: 0.8453 - acc: 0.7208 - val_loss: 0.8166 - val_acc: 0.7280\n",
            "Epoch 10/20\n",
            "60000/60000 [==============================] - 1s 24us/step - loss: 0.8268 - acc: 0.7265 - val_loss: 0.8259 - val_acc: 0.7173\n",
            "Epoch 11/20\n",
            "60000/60000 [==============================] - 1s 23us/step - loss: 0.8093 - acc: 0.7334 - val_loss: 0.8092 - val_acc: 0.7299\n",
            "Epoch 12/20\n",
            "60000/60000 [==============================] - 1s 23us/step - loss: 0.7958 - acc: 0.7377 - val_loss: 0.7852 - val_acc: 0.7335\n",
            "Epoch 13/20\n",
            "60000/60000 [==============================] - 1s 24us/step - loss: 0.7831 - acc: 0.7417 - val_loss: 0.7636 - val_acc: 0.7451\n",
            "Epoch 14/20\n",
            "60000/60000 [==============================] - 1s 23us/step - loss: 0.7735 - acc: 0.7460 - val_loss: 0.7595 - val_acc: 0.7478\n",
            "Epoch 15/20\n",
            "60000/60000 [==============================] - 1s 24us/step - loss: 0.7633 - acc: 0.7486 - val_loss: 0.7600 - val_acc: 0.7434\n",
            "Epoch 16/20\n",
            "60000/60000 [==============================] - 1s 23us/step - loss: 0.7540 - acc: 0.7520 - val_loss: 0.7477 - val_acc: 0.7501\n",
            "Epoch 17/20\n",
            "60000/60000 [==============================] - 1s 24us/step - loss: 0.7462 - acc: 0.7540 - val_loss: 0.7572 - val_acc: 0.7483\n",
            "Epoch 18/20\n",
            "60000/60000 [==============================] - 1s 25us/step - loss: 0.7384 - acc: 0.7553 - val_loss: 0.7395 - val_acc: 0.7543\n",
            "Epoch 19/20\n",
            "60000/60000 [==============================] - 1s 23us/step - loss: 0.7325 - acc: 0.7591 - val_loss: 0.7412 - val_acc: 0.7508\n",
            "Epoch 20/20\n",
            "60000/60000 [==============================] - 1s 24us/step - loss: 0.7254 - acc: 0.7610 - val_loss: 0.7744 - val_acc: 0.7472\n"
          ],
          "name": "stdout"
        }
      ]
    },
    {
      "cell_type": "markdown",
      "metadata": {
        "id": "vTtzYNe-a-Ro",
        "colab_type": "text"
      },
      "source": [
        "## Display the training/test loss/accuracy"
      ]
    },
    {
      "cell_type": "code",
      "metadata": {
        "id": "kZ70napGZ-cK",
        "colab_type": "code",
        "colab": {}
      },
      "source": [
        "history_dict = history.history\n",
        "loss_values = history_dict['loss']\n",
        "test_loss_values = history_dict['val_loss']\n",
        "epochs_range = range(1, epochs + 1)"
      ],
      "execution_count": 0,
      "outputs": []
    },
    {
      "cell_type": "code",
      "metadata": {
        "id": "9aM-5qqCfnck",
        "colab_type": "code",
        "outputId": "d411f351-7b80-4ff0-ab37-15e0dde6615e",
        "colab": {
          "base_uri": "https://localhost:8080/",
          "height": 295
        }
      },
      "source": [
        "plt.plot(epochs_range, loss_values, 'bo', label='Training loss')\n",
        "plt.plot(epochs_range, test_loss_values, 'ro', label='Test loss')\n",
        "plt.title('Training and test loss')\n",
        "plt.xlabel('Epochs')\n",
        "plt.ylabel('Loss')\n",
        "plt.legend()\n",
        "plt.show()"
      ],
      "execution_count": 26,
      "outputs": [
        {
          "output_type": "display_data",
          "data": {
            "image/png": "[encoded data removed]",
            "text/plain": [
              "<Figure size 432x288 with 1 Axes>"
            ]
          },
          "metadata": {
            "tags": []
          }
        }
      ]
    },
    {
      "cell_type": "code",
      "metadata": {
        "id": "-IB2uFCzez-e",
        "colab_type": "code",
        "colab": {}
      },
      "source": [
        "acc_values = history_dict['acc']\n",
        "test_acc_values = history_dict['val_acc']"
      ],
      "execution_count": 0,
      "outputs": []
    },
    {
      "cell_type": "code",
      "metadata": {
        "id": "AdyXVyeLf-SV",
        "colab_type": "code",
        "outputId": "2e0e2b9a-f3d1-42cc-9481-554047159af9",
        "colab": {
          "base_uri": "https://localhost:8080/",
          "height": 295
        }
      },
      "source": [
        "plt.plot(epochs_range, acc_values, 'bo', label='Training accuracy')\n",
        "plt.plot(epochs_range, test_acc_values, 'ro', label='Test accuracy')\n",
        "plt.title('Training and test accuracy')\n",
        "plt.xlabel('Epochs')\n",
        "plt.ylabel('Accuracy')\n",
        "plt.legend()\n",
        "plt.show()"
      ],
      "execution_count": 28,
      "outputs": [
        {
          "output_type": "display_data",
          "data": {
            "image/png": "[encoded data removed]",
            "text/plain": [
              "<Figure size 432x288 with 1 Axes>"
            ]
          },
          "metadata": {
            "tags": []
          }
        }
      ]
    }
  ]
}