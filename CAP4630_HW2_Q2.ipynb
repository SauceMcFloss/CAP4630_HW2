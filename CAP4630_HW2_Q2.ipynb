{
  "nbformat": 4,
  "nbformat_minor": 0,
  "metadata": {
    "colab": {
      "name": "CAP4630_HW2_Q2.ipynb",
      "provenance": [],
      "collapsed_sections": [
        "JC5iBT_0OCSl",
        "OA975wHjOJI-",
        "mORb9IwPP7oE",
        "GqbGdV6oXEyP",
        "2zpnxENIWj4N",
        "MX2EqMuqOskz"
      ]
    },
    "kernelspec": {
      "name": "python3",
      "display_name": "Python 3"
    },
    "accelerator": "GPU"
  },
  "cells": [
    {
      "cell_type": "markdown",
      "metadata": {
        "id": "rt44vyY1xW9b",
        "colab_type": "text"
      },
      "source": [
        "# MNIST fashion data set"
      ]
    },
    {
      "cell_type": "markdown",
      "metadata": {
        "id": "l34GNy7tyNks",
        "colab_type": "text"
      },
      "source": [
        "## Loading the MNIST fashion data set"
      ]
    },
    {
      "cell_type": "code",
      "metadata": {
        "id": "FSJyddqGexl5",
        "colab_type": "code",
        "outputId": "9f9bea44-99d1-4b6b-e885-42c341112dd3",
        "colab": {
          "base_uri": "https://localhost:8080/",
          "height": 0
        }
      },
      "source": [
        "import tensorflow as tf\n",
        "from tensorflow import keras\n",
        "\n",
        "fashion_mnist = keras.datasets.fashion_mnist\n",
        "\n",
        "(train_images, train_labels), (test_images, test_labels) = fashion_mnist.load_data()"
      ],
      "execution_count": 1,
      "outputs": [
        {
          "output_type": "display_data",
          "data": {
            "text/html": [
              "<p style=\"color: red;\">\n",
              "The default version of TensorFlow in Colab will soon switch to TensorFlow 2.x.<br>\n",
              "We recommend you <a href=\"https://www.tensorflow.org/guide/migrate\" target=\"_blank\">upgrade</a> now \n",
              "or ensure your notebook will continue to use TensorFlow 1.x via the <code>%tensorflow_version 1.x</code> magic:\n",
              "<a href=\"https://colab.research.google.com/notebooks/tensorflow_version.ipynb\" target=\"_blank\">more info</a>.</p>\n"
            ],
            "text/plain": [
              "<IPython.core.display.HTML object>"
            ]
          },
          "metadata": {
            "tags": []
          }
        }
      ]
    },
    {
      "cell_type": "markdown",
      "metadata": {
        "id": "XuWVQX3CySIC",
        "colab_type": "text"
      },
      "source": [
        "## Exploring the format of the MNIST fashion data set"
      ]
    },
    {
      "cell_type": "code",
      "metadata": {
        "id": "HKyztEf4fkBg",
        "colab_type": "code",
        "outputId": "32c762bc-64bf-40fe-9766-8402de9d258e",
        "colab": {
          "base_uri": "https://localhost:8080/",
          "height": 0
        }
      },
      "source": [
        "train_images.shape"
      ],
      "execution_count": 2,
      "outputs": [
        {
          "output_type": "execute_result",
          "data": {
            "text/plain": [
              "(60000, 28, 28)"
            ]
          },
          "metadata": {
            "tags": []
          },
          "execution_count": 2
        }
      ]
    },
    {
      "cell_type": "code",
      "metadata": {
        "id": "vA81OpzFyjyS",
        "colab_type": "code",
        "outputId": "7ac0788e-64f0-49af-9f40-c8df87cbdf11",
        "colab": {
          "base_uri": "https://localhost:8080/",
          "height": 0
        }
      },
      "source": [
        "len(train_images)"
      ],
      "execution_count": 3,
      "outputs": [
        {
          "output_type": "execute_result",
          "data": {
            "text/plain": [
              "60000"
            ]
          },
          "metadata": {
            "tags": []
          },
          "execution_count": 3
        }
      ]
    },
    {
      "cell_type": "code",
      "metadata": {
        "id": "w85BC1AXxwds",
        "colab_type": "code",
        "outputId": "da55ddbf-cef6-4009-fecc-5d527ccf3e0b",
        "colab": {
          "base_uri": "https://localhost:8080/",
          "height": 0
        }
      },
      "source": [
        "train_images.ndim"
      ],
      "execution_count": 4,
      "outputs": [
        {
          "output_type": "execute_result",
          "data": {
            "text/plain": [
              "3"
            ]
          },
          "metadata": {
            "tags": []
          },
          "execution_count": 4
        }
      ]
    },
    {
      "cell_type": "code",
      "metadata": {
        "id": "1sHFiZBFxnrB",
        "colab_type": "code",
        "outputId": "dbeeabef-15c0-4a6e-9639-670c4c8b95ea",
        "colab": {
          "base_uri": "https://localhost:8080/",
          "height": 0
        }
      },
      "source": [
        "train_images.dtype"
      ],
      "execution_count": 5,
      "outputs": [
        {
          "output_type": "execute_result",
          "data": {
            "text/plain": [
              "dtype('uint8')"
            ]
          },
          "metadata": {
            "tags": []
          },
          "execution_count": 5
        }
      ]
    },
    {
      "cell_type": "code",
      "metadata": {
        "id": "euQWeEkpyCL5",
        "colab_type": "code",
        "outputId": "1a8b6208-1a31-4ddf-ad5e-8eca9d612ef9",
        "colab": {
          "base_uri": "https://localhost:8080/",
          "height": 0
        }
      },
      "source": [
        "train_labels"
      ],
      "execution_count": 6,
      "outputs": [
        {
          "output_type": "execute_result",
          "data": {
            "text/plain": [
              "array([9, 0, 0, ..., 3, 0, 5], dtype=uint8)"
            ]
          },
          "metadata": {
            "tags": []
          },
          "execution_count": 6
        }
      ]
    },
    {
      "cell_type": "code",
      "metadata": {
        "id": "jqv0aUL-gGU_",
        "colab_type": "code",
        "outputId": "82ea7a61-2d81-4a17-a7b5-c7445b3aab24",
        "colab": {
          "base_uri": "https://localhost:8080/",
          "height": 0
        }
      },
      "source": [
        "len(train_labels)"
      ],
      "execution_count": 7,
      "outputs": [
        {
          "output_type": "execute_result",
          "data": {
            "text/plain": [
              "60000"
            ]
          },
          "metadata": {
            "tags": []
          },
          "execution_count": 7
        }
      ]
    },
    {
      "cell_type": "code",
      "metadata": {
        "id": "aa2r6ZRcO7XV",
        "colab_type": "code",
        "colab": {}
      },
      "source": [
        "class_names = ['T-shirt/top', 'Trouser', 'Pullover', 'Dress', 'Coat',\n",
        "               'Sandal', 'Shirt', 'Sneaker', 'Bag', 'Ankle boot']"
      ],
      "execution_count": 0,
      "outputs": []
    },
    {
      "cell_type": "markdown",
      "metadata": {
        "id": "dmQ2siA7ywPx",
        "colab_type": "text"
      },
      "source": [
        "## Displaying some MNIST fashion items"
      ]
    },
    {
      "cell_type": "code",
      "metadata": {
        "id": "uSj4HIhWzBxl",
        "colab_type": "code",
        "colab": {}
      },
      "source": [
        "import matplotlib.pyplot as plt\n",
        "import numpy as np"
      ],
      "execution_count": 0,
      "outputs": []
    },
    {
      "cell_type": "code",
      "metadata": {
        "id": "1Gdt3obzgQaY",
        "colab_type": "code",
        "outputId": "a7d6cfe7-a905-451c-b0ef-304065d96559",
        "colab": {
          "base_uri": "https://localhost:8080/",
          "height": 0
        }
      },
      "source": [
        "plt.figure(figsize=(10,10))\n",
        "indices = np.random.choice(np.arange(60000), size=25, replace=False)\n",
        "for i in range(25):\n",
        "    plt.subplot(5,5,i+1)\n",
        "    plt.xticks([])\n",
        "    plt.yticks([])\n",
        "    plt.grid(False)\n",
        "    plt.imshow(train_images[i], cmap=plt.cm.binary)\n",
        "    plt.xlabel(class_names[train_labels[i]])\n",
        "plt.show()"
      ],
      "execution_count": 10,
      "outputs": [
        {
          "output_type": "display_data",
          "data": {
            "image/png": "[encoded data removed]",
            "text/plain": [
              "<Figure size 720x720 with 25 Axes>"
            ]
          },
          "metadata": {
            "tags": []
          }
        }
      ]
    },
    {
      "cell_type": "markdown",
      "metadata": {
        "id": "Rcch4U30N53_",
        "colab_type": "text"
      },
      "source": [
        "The data must be preprocessed before training the network. If you inspect the first image in the training set, you will see that the pixel values fall in the range of 0 to 255:"
      ]
    },
    {
      "cell_type": "code",
      "metadata": {
        "id": "luvWbddTMtTX",
        "colab_type": "code",
        "outputId": "775e1da5-f23d-4a34-93ab-b55c209ef4fb",
        "colab": {
          "base_uri": "https://localhost:8080/",
          "height": 0
        }
      },
      "source": [
        "plt.figure()\n",
        "plt.imshow(train_images[0])\n",
        "plt.colorbar()\n",
        "plt.grid(False)\n",
        "plt.show()"
      ],
      "execution_count": 11,
      "outputs": [
        {
          "output_type": "display_data",
          "data": {
            "image/png": "[encoded data removed]",
            "text/plain": [
              "<Figure size 432x288 with 2 Axes>"
            ]
          },
          "metadata": {
            "tags": []
          }
        }
      ]
    },
    {
      "cell_type": "markdown",
      "metadata": {
        "id": "JC5iBT_0OCSl",
        "colab_type": "text"
      },
      "source": [
        "## Preprocess the data"
      ]
    },
    {
      "cell_type": "code",
      "metadata": {
        "id": "inugSPsZNytV",
        "colab_type": "code",
        "colab": {}
      },
      "source": [
        "train_images = train_images / 255.0\n",
        "test_images = test_images / 255.0"
      ],
      "execution_count": 0,
      "outputs": []
    },
    {
      "cell_type": "markdown",
      "metadata": {
        "id": "dKen_epbT0MX",
        "colab_type": "text"
      },
      "source": [
        "#OVERFITTING"
      ]
    },
    {
      "cell_type": "markdown",
      "metadata": {
        "id": "OA975wHjOJI-",
        "colab_type": "text"
      },
      "source": [
        "## Build the model"
      ]
    },
    {
      "cell_type": "code",
      "metadata": {
        "id": "ZX6SGTpMOIKN",
        "colab_type": "code",
        "outputId": "853071d4-de2a-48ce-9292-4da2de95751a",
        "colab": {
          "base_uri": "https://localhost:8080/",
          "height": 785
        }
      },
      "source": [
        "# set up the layers\n",
        "\n",
        "model = keras.Sequential([\n",
        "    keras.layers.Flatten(input_shape=(28, 28)),\n",
        "    keras.layers.Dense(128, activation=tf.nn.relu),\n",
        "    keras.layers.Dense(128, activation=tf.nn.relu),\n",
        "    keras.layers.Dense(10, activation=tf.nn.softmax)\n",
        "])\n",
        "\n",
        "# compile the model\n",
        "\n",
        "model.compile(optimizer='adam',\n",
        "             loss='sparse_categorical_crossentropy',\n",
        "             metrics=['accuracy'])\n",
        "\n",
        "# train the model\n",
        "epochs = 20\n",
        "history = model.fit(train_images, \n",
        "                      train_labels, \n",
        "                      epochs=epochs,  \n",
        "                      validation_data=(test_images, test_labels))"
      ],
      "execution_count": 13,
      "outputs": [
        {
          "output_type": "stream",
          "text": [
            "WARNING:tensorflow:From /usr/local/lib/python3.6/dist-packages/tensorflow_core/python/ops/resource_variable_ops.py:1630: calling BaseResourceVariable.__init__ (from tensorflow.python.ops.resource_variable_ops) with constraint is deprecated and will be removed in a future version.\n",
            "Instructions for updating:\n",
            "If using Keras pass *_constraint arguments to layers.\n",
            "Train on 60000 samples, validate on 10000 samples\n",
            "Epoch 1/20\n",
            "60000/60000 [==============================] - 4s 73us/sample - loss: 0.4869 - acc: 0.8262 - val_loss: 0.4659 - val_acc: 0.8262\n",
            "Epoch 2/20\n",
            "60000/60000 [==============================] - 4s 68us/sample - loss: 0.3626 - acc: 0.8682 - val_loss: 0.3933 - val_acc: 0.8607\n",
            "Epoch 3/20\n",
            "60000/60000 [==============================] - 4s 69us/sample - loss: 0.3285 - acc: 0.8787 - val_loss: 0.3866 - val_acc: 0.8601\n",
            "Epoch 4/20\n",
            "60000/60000 [==============================] - 4s 67us/sample - loss: 0.3057 - acc: 0.8869 - val_loss: 0.3531 - val_acc: 0.8753\n",
            "Epoch 5/20\n",
            "60000/60000 [==============================] - 4s 66us/sample - loss: 0.2880 - acc: 0.8940 - val_loss: 0.3593 - val_acc: 0.8778\n",
            "Epoch 6/20\n",
            "60000/60000 [==============================] - 4s 67us/sample - loss: 0.2734 - acc: 0.8979 - val_loss: 0.3386 - val_acc: 0.8818\n",
            "Epoch 7/20\n",
            "60000/60000 [==============================] - 4s 66us/sample - loss: 0.2610 - acc: 0.9009 - val_loss: 0.3354 - val_acc: 0.8781\n",
            "Epoch 8/20\n",
            "60000/60000 [==============================] - 4s 66us/sample - loss: 0.2487 - acc: 0.9050 - val_loss: 0.3236 - val_acc: 0.8846\n",
            "Epoch 9/20\n",
            "60000/60000 [==============================] - 4s 66us/sample - loss: 0.2379 - acc: 0.9105 - val_loss: 0.3473 - val_acc: 0.8789\n",
            "Epoch 10/20\n",
            "60000/60000 [==============================] - 4s 66us/sample - loss: 0.2301 - acc: 0.9123 - val_loss: 0.3314 - val_acc: 0.8835\n",
            "Epoch 11/20\n",
            "60000/60000 [==============================] - 4s 66us/sample - loss: 0.2208 - acc: 0.9165 - val_loss: 0.3325 - val_acc: 0.8839\n",
            "Epoch 12/20\n",
            "60000/60000 [==============================] - 4s 66us/sample - loss: 0.2140 - acc: 0.9179 - val_loss: 0.3477 - val_acc: 0.8829\n",
            "Epoch 13/20\n",
            "60000/60000 [==============================] - 4s 67us/sample - loss: 0.2066 - acc: 0.9220 - val_loss: 0.3313 - val_acc: 0.8906\n",
            "Epoch 14/20\n",
            "60000/60000 [==============================] - 4s 68us/sample - loss: 0.1985 - acc: 0.9239 - val_loss: 0.3577 - val_acc: 0.8833\n",
            "Epoch 15/20\n",
            "60000/60000 [==============================] - 4s 67us/sample - loss: 0.1942 - acc: 0.9259 - val_loss: 0.3457 - val_acc: 0.8892\n",
            "Epoch 16/20\n",
            "60000/60000 [==============================] - 4s 67us/sample - loss: 0.1884 - acc: 0.9283 - val_loss: 0.3356 - val_acc: 0.8913\n",
            "Epoch 17/20\n",
            "60000/60000 [==============================] - 4s 67us/sample - loss: 0.1808 - acc: 0.9307 - val_loss: 0.3548 - val_acc: 0.8904\n",
            "Epoch 18/20\n",
            "60000/60000 [==============================] - 4s 67us/sample - loss: 0.1766 - acc: 0.9330 - val_loss: 0.3738 - val_acc: 0.8882\n",
            "Epoch 19/20\n",
            "60000/60000 [==============================] - 4s 66us/sample - loss: 0.1709 - acc: 0.9339 - val_loss: 0.3832 - val_acc: 0.8842\n",
            "Epoch 20/20\n",
            "60000/60000 [==============================] - 4s 66us/sample - loss: 0.1658 - acc: 0.9354 - val_loss: 0.3824 - val_acc: 0.8898\n"
          ],
          "name": "stdout"
        }
      ]
    },
    {
      "cell_type": "markdown",
      "metadata": {
        "id": "mORb9IwPP7oE",
        "colab_type": "text"
      },
      "source": [
        "## Evaluate accuracy"
      ]
    },
    {
      "cell_type": "code",
      "metadata": {
        "id": "rlKIF6ijOkiE",
        "colab_type": "code",
        "outputId": "e9854505-deac-44d7-b24e-e6f1ba0b91e8",
        "colab": {
          "base_uri": "https://localhost:8080/",
          "height": 51
        }
      },
      "source": [
        "test_loss, test_acc = model.evaluate(test_images, test_labels)\n",
        "\n",
        "print('Test accuracy:', test_acc)"
      ],
      "execution_count": 14,
      "outputs": [
        {
          "output_type": "stream",
          "text": [
            "10000/10000 [==============================] - 0s 42us/sample - loss: 0.3824 - acc: 0.8898\n",
            "Test accuracy: 0.8898\n"
          ],
          "name": "stdout"
        }
      ]
    },
    {
      "cell_type": "markdown",
      "metadata": {
        "id": "A4_diOE4QOqo",
        "colab_type": "text"
      },
      "source": [
        "It turns out, the accuracy on the test dataset is a little less than the accuracy on the training dataset. \n",
        "\n",
        "This gap between training accuracy and test accuracy is an example of **overfitting**. Overfitting is when a machine learning model performs worse on new data than on their training data.\n",
        "\n"
      ]
    },
    {
      "cell_type": "markdown",
      "metadata": {
        "id": "GqbGdV6oXEyP",
        "colab_type": "text"
      },
      "source": [
        "## Training/test loss/accuracy during training"
      ]
    },
    {
      "cell_type": "code",
      "metadata": {
        "id": "3b5OCE5YTrEc",
        "colab_type": "code",
        "colab": {}
      },
      "source": [
        "history_dict = history.history\n",
        "loss_values = history_dict['loss']\n",
        "test_loss_values = history_dict['val_loss']\n",
        "epochs_range = range(1, epochs+1)"
      ],
      "execution_count": 0,
      "outputs": []
    },
    {
      "cell_type": "code",
      "metadata": {
        "id": "y98AOblYT3Pk",
        "colab_type": "code",
        "outputId": "fce926b9-c42f-439d-8d5a-d80cd0f6c37e",
        "colab": {
          "base_uri": "https://localhost:8080/",
          "height": 295
        }
      },
      "source": [
        "plt.plot(epochs_range, loss_values, 'bo', label='Training loss')\n",
        "plt.plot(epochs_range, test_loss_values, 'ro', label='Test loss')\n",
        "plt.title('Training and test loss')\n",
        "plt.xlabel('Epochs')\n",
        "plt.ylabel('Loss')\n",
        "plt.legend()\n",
        "plt.show()"
      ],
      "execution_count": 16,
      "outputs": [
        {
          "output_type": "display_data",
          "data": {
            "image/png": "[encoded data removed]",
            "text/plain": [
              "<Figure size 432x288 with 1 Axes>"
            ]
          },
          "metadata": {
            "tags": []
          }
        }
      ]
    },
    {
      "cell_type": "code",
      "metadata": {
        "id": "790AkDaTWuZU",
        "colab_type": "code",
        "colab": {}
      },
      "source": [
        "acc_values = history_dict['acc']\n",
        "test_acc_values = history_dict['val_acc']"
      ],
      "execution_count": 0,
      "outputs": []
    },
    {
      "cell_type": "code",
      "metadata": {
        "id": "7BkIfPQ4W39E",
        "colab_type": "code",
        "outputId": "0616b4dc-6b7c-404e-c13a-d2ec1cd2d5c0",
        "colab": {
          "base_uri": "https://localhost:8080/",
          "height": 295
        }
      },
      "source": [
        "plt.plot(epochs_range, acc_values, 'bo', label='Training accuracy')\n",
        "plt.plot(epochs_range, test_acc_values, 'ro', label='Test accuracy')\n",
        "plt.title('Training and test accuracy')\n",
        "plt.xlabel('Epochs')\n",
        "plt.ylabel('Accuracy')\n",
        "plt.legend()\n",
        "plt.show()"
      ],
      "execution_count": 18,
      "outputs": [
        {
          "output_type": "display_data",
          "data": {
            "image/png": "[encoded data removed]",
            "text/plain": [
              "<Figure size 432x288 with 1 Axes>"
            ]
          },
          "metadata": {
            "tags": []
          }
        }
      ]
    },
    {
      "cell_type": "markdown",
      "metadata": {
        "colab_type": "text",
        "id": "mY5hByjwUFXg"
      },
      "source": [
        "#UNDERFITTING"
      ]
    },
    {
      "cell_type": "markdown",
      "metadata": {
        "colab_type": "text",
        "id": "j8JfI0GzUFXh"
      },
      "source": [
        "## Build the model"
      ]
    },
    {
      "cell_type": "code",
      "metadata": {
        "colab_type": "code",
        "outputId": "5f359647-ebb4-4be6-b2d5-946a3719d9c0",
        "id": "hCaWA70QUFXi",
        "colab": {
          "base_uri": "https://localhost:8080/",
          "height": 765
        }
      },
      "source": [
        "# set up the layers\n",
        "\n",
        "model = keras.Sequential([\n",
        "    keras.layers.Flatten(input_shape=(28, 28)),\n",
        "    keras.layers.Dense(10, activation=tf.nn.softsign)\n",
        "])\n",
        "\n",
        "# compile the model\n",
        "\n",
        "model.compile(optimizer='adam',\n",
        "             loss='sparse_categorical_crossentropy',\n",
        "             metrics=['accuracy'])\n",
        "\n",
        "# train the model\n",
        "epochs = 20\n",
        "history = model.fit(train_images, \n",
        "                      train_labels, \n",
        "                      epochs=epochs,  \n",
        "                      validation_data=(test_images, test_labels))"
      ],
      "execution_count": 19,
      "outputs": [
        {
          "output_type": "stream",
          "text": [
            "WARNING:tensorflow:From /usr/local/lib/python3.6/dist-packages/tensorflow_core/python/ops/math_grad.py:1424: where (from tensorflow.python.ops.array_ops) is deprecated and will be removed in a future version.\n",
            "Instructions for updating:\n",
            "Use tf.where in 2.0, which has the same broadcast rule as np.where\n",
            "Train on 60000 samples, validate on 10000 samples\n",
            "Epoch 1/20\n",
            "60000/60000 [==============================] - 4s 65us/sample - loss: 2.3349 - acc: 0.2460 - val_loss: 2.2831 - val_acc: 0.2269\n",
            "Epoch 2/20\n",
            "60000/60000 [==============================] - 4s 63us/sample - loss: 2.3024 - acc: 0.2461 - val_loss: 2.3026 - val_acc: 0.2473\n",
            "Epoch 3/20\n",
            "60000/60000 [==============================] - 4s 63us/sample - loss: 2.3025 - acc: 0.2461 - val_loss: 2.3026 - val_acc: 0.2472\n",
            "Epoch 4/20\n",
            "60000/60000 [==============================] - 4s 64us/sample - loss: 2.3025 - acc: 0.2460 - val_loss: 2.3026 - val_acc: 0.2472\n",
            "Epoch 5/20\n",
            "60000/60000 [==============================] - 4s 64us/sample - loss: 2.3009 - acc: 0.2111 - val_loss: 2.3026 - val_acc: 0.1744\n",
            "Epoch 6/20\n",
            "60000/60000 [==============================] - 4s 64us/sample - loss: 2.3026 - acc: 0.1753 - val_loss: 2.3026 - val_acc: 0.1744\n",
            "Epoch 7/20\n",
            "60000/60000 [==============================] - 4s 63us/sample - loss: 2.3026 - acc: 0.1753 - val_loss: 2.3026 - val_acc: 0.1744\n",
            "Epoch 8/20\n",
            "60000/60000 [==============================] - 4s 62us/sample - loss: 2.3026 - acc: 0.1753 - val_loss: 2.3026 - val_acc: 0.1744\n",
            "Epoch 9/20\n",
            "60000/60000 [==============================] - 4s 63us/sample - loss: 2.3026 - acc: 0.1753 - val_loss: 2.3026 - val_acc: 0.1744\n",
            "Epoch 10/20\n",
            "60000/60000 [==============================] - 4s 63us/sample - loss: 2.3026 - acc: 0.1753 - val_loss: 2.3026 - val_acc: 0.1744\n",
            "Epoch 11/20\n",
            "60000/60000 [==============================] - 4s 63us/sample - loss: 2.3026 - acc: 0.1753 - val_loss: 2.3026 - val_acc: 0.1744\n",
            "Epoch 12/20\n",
            "60000/60000 [==============================] - 4s 63us/sample - loss: 2.3026 - acc: 0.1753 - val_loss: 2.3026 - val_acc: 0.1744\n",
            "Epoch 13/20\n",
            "60000/60000 [==============================] - 4s 63us/sample - loss: 2.3026 - acc: 0.1753 - val_loss: 2.3026 - val_acc: 0.1744\n",
            "Epoch 14/20\n",
            "60000/60000 [==============================] - 4s 65us/sample - loss: 2.3026 - acc: 0.1753 - val_loss: 2.3026 - val_acc: 0.1744\n",
            "Epoch 15/20\n",
            "60000/60000 [==============================] - 4s 64us/sample - loss: 2.3026 - acc: 0.1753 - val_loss: 2.3026 - val_acc: 0.1744\n",
            "Epoch 16/20\n",
            "60000/60000 [==============================] - 4s 64us/sample - loss: 2.3026 - acc: 0.1753 - val_loss: 2.3026 - val_acc: 0.1744\n",
            "Epoch 17/20\n",
            "60000/60000 [==============================] - 4s 63us/sample - loss: 2.3026 - acc: 0.1753 - val_loss: 2.3026 - val_acc: 0.1744\n",
            "Epoch 18/20\n",
            "60000/60000 [==============================] - 4s 64us/sample - loss: 2.3026 - acc: 0.1753 - val_loss: 2.3026 - val_acc: 0.1744\n",
            "Epoch 19/20\n",
            "60000/60000 [==============================] - 4s 64us/sample - loss: 2.3026 - acc: 0.1753 - val_loss: 2.3026 - val_acc: 0.1744\n",
            "Epoch 20/20\n",
            "60000/60000 [==============================] - 4s 64us/sample - loss: 2.3026 - acc: 0.1753 - val_loss: 2.3026 - val_acc: 0.1744\n"
          ],
          "name": "stdout"
        }
      ]
    },
    {
      "cell_type": "markdown",
      "metadata": {
        "colab_type": "text",
        "id": "r4k5Mhd_UFXl"
      },
      "source": [
        "## Evaluate accuracy"
      ]
    },
    {
      "cell_type": "code",
      "metadata": {
        "colab_type": "code",
        "outputId": "962f2c72-4bf8-4601-932d-d3e62c60112e",
        "id": "cni8kXJQUFXm",
        "colab": {
          "base_uri": "https://localhost:8080/",
          "height": 51
        }
      },
      "source": [
        "test_loss, test_acc = model.evaluate(test_images, test_labels)\n",
        "\n",
        "print('Test accuracy:', test_acc)"
      ],
      "execution_count": 20,
      "outputs": [
        {
          "output_type": "stream",
          "text": [
            "10000/10000 [==============================] - 0s 39us/sample - loss: 2.3026 - acc: 0.1744\n",
            "Test accuracy: 0.1744\n"
          ],
          "name": "stdout"
        }
      ]
    },
    {
      "cell_type": "markdown",
      "metadata": {
        "colab_type": "text",
        "id": "LGjJ_dA5UFXq"
      },
      "source": [
        "## Training/test loss/accuracy during training"
      ]
    },
    {
      "cell_type": "code",
      "metadata": {
        "colab_type": "code",
        "id": "AOSdMvtpUFXr",
        "colab": {}
      },
      "source": [
        "history_dict = history.history\n",
        "loss_values = history_dict['loss']\n",
        "test_loss_values = history_dict['val_loss']\n",
        "epochs_range = range(1, epochs+1)"
      ],
      "execution_count": 0,
      "outputs": []
    },
    {
      "cell_type": "code",
      "metadata": {
        "colab_type": "code",
        "outputId": "2e0e80cc-dd63-4b49-87b4-4c956a8914a8",
        "id": "1_Zk08BdUFXt",
        "colab": {
          "base_uri": "https://localhost:8080/",
          "height": 295
        }
      },
      "source": [
        "plt.plot(epochs_range, loss_values, 'bo', label='Training loss')\n",
        "plt.plot(epochs_range, test_loss_values, 'ro', label='Test loss')\n",
        "plt.title('Training and test loss')\n",
        "plt.xlabel('Epochs')\n",
        "plt.ylabel('Loss')\n",
        "plt.legend()\n",
        "plt.show()"
      ],
      "execution_count": 22,
      "outputs": [
        {
          "output_type": "display_data",
          "data": {
            "image/png": "[encoded data removed]",
            "text/plain": [
              "<Figure size 432x288 with 1 Axes>"
            ]
          },
          "metadata": {
            "tags": []
          }
        }
      ]
    },
    {
      "cell_type": "code",
      "metadata": {
        "colab_type": "code",
        "id": "4whT_2zuUFXv",
        "colab": {}
      },
      "source": [
        "acc_values = history_dict['acc']\n",
        "test_acc_values = history_dict['val_acc']"
      ],
      "execution_count": 0,
      "outputs": []
    },
    {
      "cell_type": "code",
      "metadata": {
        "colab_type": "code",
        "outputId": "6006b35f-a468-47b6-be07-e1b68cbb7b8e",
        "id": "z3ptw8vRUFXx",
        "colab": {
          "base_uri": "https://localhost:8080/",
          "height": 295
        }
      },
      "source": [
        "plt.plot(epochs_range, acc_values, 'bo', label='Training accuracy')\n",
        "plt.plot(epochs_range, test_acc_values, 'ro', label='Test accuracy')\n",
        "plt.title('Training and test accuracy')\n",
        "plt.xlabel('Epochs')\n",
        "plt.ylabel('Accuracy')\n",
        "plt.legend()\n",
        "plt.show()"
      ],
      "execution_count": 24,
      "outputs": [
        {
          "output_type": "display_data",
          "data": {
            "image/png": "[encoded data removed]",
            "text/plain": [
              "<Figure size 432x288 with 1 Axes>"
            ]
          },
          "metadata": {
            "tags": []
          }
        }
      ]
    },
    {
      "cell_type": "markdown",
      "metadata": {
        "colab_type": "text",
        "id": "PcijSy8JUJOw"
      },
      "source": [
        "#PRETTY GOOD MODEL"
      ]
    },
    {
      "cell_type": "markdown",
      "metadata": {
        "colab_type": "text",
        "id": "N_Bom1SBUJOx"
      },
      "source": [
        "## Build the model"
      ]
    },
    {
      "cell_type": "code",
      "metadata": {
        "colab_type": "code",
        "outputId": "2a50ae90-6dca-4626-85d5-0090909e7058",
        "id": "1im_UuhxUJOy",
        "colab": {
          "base_uri": "https://localhost:8080/",
          "height": 714
        }
      },
      "source": [
        "# set up the layers\n",
        "\n",
        "model = keras.Sequential([\n",
        "    keras.layers.Flatten(input_shape=(28, 28)),\n",
        "    keras.layers.Dense(256, activation=tf.nn.relu),\n",
        "    keras.layers.Dropout(.2),\n",
        "    keras.layers.Dense(10, activation=tf.nn.softmax)\n",
        "])\n",
        "\n",
        "# compile the model\n",
        "\n",
        "model.compile(optimizer='sgd',\n",
        "             loss='sparse_categorical_crossentropy',\n",
        "             metrics=['accuracy'])\n",
        "\n",
        "# train the model\n",
        "epochs = 20\n",
        "history = model.fit(train_images, \n",
        "                      train_labels, \n",
        "                      epochs=epochs,  \n",
        "                      validation_data=(test_images, test_labels))"
      ],
      "execution_count": 76,
      "outputs": [
        {
          "output_type": "stream",
          "text": [
            "Train on 60000 samples, validate on 10000 samples\n",
            "Epoch 1/20\n",
            "60000/60000 [==============================] - 5s 77us/sample - loss: 0.7719 - acc: 0.7436 - val_loss: 0.5703 - val_acc: 0.8076\n",
            "Epoch 2/20\n",
            "60000/60000 [==============================] - 4s 72us/sample - loss: 0.5407 - acc: 0.8166 - val_loss: 0.5098 - val_acc: 0.8219\n",
            "Epoch 3/20\n",
            "60000/60000 [==============================] - 4s 72us/sample - loss: 0.4873 - acc: 0.8324 - val_loss: 0.4758 - val_acc: 0.8346\n",
            "Epoch 4/20\n",
            "60000/60000 [==============================] - 4s 73us/sample - loss: 0.4558 - acc: 0.8423 - val_loss: 0.4558 - val_acc: 0.8388\n",
            "Epoch 5/20\n",
            "60000/60000 [==============================] - 4s 74us/sample - loss: 0.4344 - acc: 0.8498 - val_loss: 0.4382 - val_acc: 0.8448\n",
            "Epoch 6/20\n",
            "60000/60000 [==============================] - 4s 73us/sample - loss: 0.4159 - acc: 0.8554 - val_loss: 0.4295 - val_acc: 0.8467\n",
            "Epoch 7/20\n",
            "60000/60000 [==============================] - 4s 73us/sample - loss: 0.4028 - acc: 0.8592 - val_loss: 0.4163 - val_acc: 0.8492\n",
            "Epoch 8/20\n",
            "60000/60000 [==============================] - 4s 75us/sample - loss: 0.3914 - acc: 0.8630 - val_loss: 0.4054 - val_acc: 0.8539\n",
            "Epoch 9/20\n",
            "60000/60000 [==============================] - 4s 72us/sample - loss: 0.3831 - acc: 0.8655 - val_loss: 0.3986 - val_acc: 0.8572\n",
            "Epoch 10/20\n",
            "60000/60000 [==============================] - 4s 72us/sample - loss: 0.3732 - acc: 0.8683 - val_loss: 0.3951 - val_acc: 0.8600\n",
            "Epoch 11/20\n",
            "60000/60000 [==============================] - 4s 72us/sample - loss: 0.3659 - acc: 0.8717 - val_loss: 0.3906 - val_acc: 0.8601\n",
            "Epoch 12/20\n",
            "60000/60000 [==============================] - 4s 74us/sample - loss: 0.3598 - acc: 0.8741 - val_loss: 0.3908 - val_acc: 0.8607\n",
            "Epoch 13/20\n",
            "60000/60000 [==============================] - 4s 72us/sample - loss: 0.3535 - acc: 0.8762 - val_loss: 0.3792 - val_acc: 0.8649\n",
            "Epoch 14/20\n",
            "60000/60000 [==============================] - 4s 72us/sample - loss: 0.3479 - acc: 0.8770 - val_loss: 0.3766 - val_acc: 0.8663\n",
            "Epoch 15/20\n",
            "60000/60000 [==============================] - 4s 73us/sample - loss: 0.3432 - acc: 0.8783 - val_loss: 0.3753 - val_acc: 0.8664\n",
            "Epoch 16/20\n",
            "60000/60000 [==============================] - 4s 73us/sample - loss: 0.3374 - acc: 0.8804 - val_loss: 0.3680 - val_acc: 0.8684\n",
            "Epoch 17/20\n",
            "60000/60000 [==============================] - 4s 73us/sample - loss: 0.3321 - acc: 0.8829 - val_loss: 0.3676 - val_acc: 0.8691\n",
            "Epoch 18/20\n",
            "60000/60000 [==============================] - 4s 72us/sample - loss: 0.3281 - acc: 0.8838 - val_loss: 0.3691 - val_acc: 0.8695\n",
            "Epoch 19/20\n",
            "60000/60000 [==============================] - 4s 73us/sample - loss: 0.3242 - acc: 0.8854 - val_loss: 0.3643 - val_acc: 0.8680\n",
            "Epoch 20/20\n",
            "60000/60000 [==============================] - 4s 72us/sample - loss: 0.3203 - acc: 0.8859 - val_loss: 0.3557 - val_acc: 0.8728\n"
          ],
          "name": "stdout"
        }
      ]
    },
    {
      "cell_type": "markdown",
      "metadata": {
        "colab_type": "text",
        "id": "vi_NDUuiUJO0"
      },
      "source": [
        "## Evaluate accuracy"
      ]
    },
    {
      "cell_type": "code",
      "metadata": {
        "colab_type": "code",
        "outputId": "1ce154f7-7345-4e5e-ded2-9fd84ffb43d0",
        "id": "9dIqQwp5UJO0",
        "colab": {
          "base_uri": "https://localhost:8080/",
          "height": 51
        }
      },
      "source": [
        "test_loss, test_acc = model.evaluate(test_images, test_labels)\n",
        "\n",
        "print('Test accuracy:', test_acc)"
      ],
      "execution_count": 77,
      "outputs": [
        {
          "output_type": "stream",
          "text": [
            "10000/10000 [==============================] - 0s 49us/sample - loss: 0.3557 - acc: 0.8728\n",
            "Test accuracy: 0.8728\n"
          ],
          "name": "stdout"
        }
      ]
    },
    {
      "cell_type": "markdown",
      "metadata": {
        "colab_type": "text",
        "id": "oNUKJtPVUJO3"
      },
      "source": [
        "## Training/test loss/accuracy during training"
      ]
    },
    {
      "cell_type": "code",
      "metadata": {
        "colab_type": "code",
        "id": "okKZvozEUJO3",
        "colab": {}
      },
      "source": [
        "history_dict = history.history\n",
        "loss_values = history_dict['loss']\n",
        "test_loss_values = history_dict['val_loss']\n",
        "epochs_range = range(1, epochs+1)"
      ],
      "execution_count": 0,
      "outputs": []
    },
    {
      "cell_type": "code",
      "metadata": {
        "colab_type": "code",
        "outputId": "fb19f63d-2526-4909-a7f8-72044084942d",
        "id": "k-zljG9eUJO5",
        "colab": {
          "base_uri": "https://localhost:8080/",
          "height": 295
        }
      },
      "source": [
        "plt.plot(epochs_range, loss_values, 'bo', label='Training loss')\n",
        "plt.plot(epochs_range, test_loss_values, 'ro', label='Test loss')\n",
        "plt.title('Training and test loss')\n",
        "plt.xlabel('Epochs')\n",
        "plt.ylabel('Loss')\n",
        "plt.legend()\n",
        "plt.show()"
      ],
      "execution_count": 79,
      "outputs": [
        {
          "output_type": "display_data",
          "data": {
            "image/png": "[encoded data removed]",
            "text/plain": [
              "<Figure size 432x288 with 1 Axes>"
            ]
          },
          "metadata": {
            "tags": []
          }
        }
      ]
    },
    {
      "cell_type": "code",
      "metadata": {
        "colab_type": "code",
        "id": "dZpWlK41UJO6",
        "colab": {}
      },
      "source": [
        "acc_values = history_dict['acc']\n",
        "test_acc_values = history_dict['val_acc']"
      ],
      "execution_count": 0,
      "outputs": []
    },
    {
      "cell_type": "code",
      "metadata": {
        "colab_type": "code",
        "outputId": "c4926649-99d5-4819-835a-0f60069d265c",
        "id": "G669z2W3UJO8",
        "colab": {
          "base_uri": "https://localhost:8080/",
          "height": 295
        }
      },
      "source": [
        "plt.plot(epochs_range, acc_values, 'bo', label='Training accuracy')\n",
        "plt.plot(epochs_range, test_acc_values, 'ro', label='Test accuracy')\n",
        "plt.title('Training and test accuracy')\n",
        "plt.xlabel('Epochs')\n",
        "plt.ylabel('Accuracy')\n",
        "plt.legend()\n",
        "plt.show()"
      ],
      "execution_count": 81,
      "outputs": [
        {
          "output_type": "display_data",
          "data": {
            "image/png": "[encoded data removed]",
            "text/plain": [
              "<Figure size 432x288 with 1 Axes>"
            ]
          },
          "metadata": {
            "tags": []
          }
        }
      ]
    }
  ]
}