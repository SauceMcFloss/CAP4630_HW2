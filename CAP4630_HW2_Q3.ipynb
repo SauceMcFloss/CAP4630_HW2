{
  "nbformat": 4,
  "nbformat_minor": 0,
  "metadata": {
    "colab": {
      "name": "CAP4630_HW2_Q3.ipynb",
      "provenance": [],
      "collapsed_sections": [
        "mNqKXUfGkpok"
      ]
    },
    "kernelspec": {
      "name": "python3",
      "display_name": "Python 3"
    },
    "accelerator": "GPU"
  },
  "cells": [
    {
      "cell_type": "markdown",
      "metadata": {
        "id": "jlejCbM2yYVD",
        "colab_type": "text"
      },
      "source": [
        "#Setup"
      ]
    },
    {
      "cell_type": "code",
      "metadata": {
        "id": "FjMwjS-AQS22",
        "colab_type": "code",
        "outputId": "c4207abd-435a-41b2-86f6-3d09aa283ea4",
        "colab": {
          "base_uri": "https://localhost:8080/",
          "height": 80
        }
      },
      "source": [
        "#Imports\n",
        "from keras.datasets import cifar10\n",
        "import tensorflow as tf\n",
        "from tensorflow import keras\n",
        "from keras.layers.convolutional import Conv2D\n",
        "import matplotlib.pyplot as plt\n",
        "import numpy as np\n",
        "from keras import utils\n",
        "from keras import layers\n",
        "from keras import models\n",
        "from keras import optimizers\n",
        "\n",
        "(train_images, train_labels), (test_images, test_labels) = cifar10.load_data()"
      ],
      "execution_count": 1,
      "outputs": [
        {
          "output_type": "stream",
          "text": [
            "Using TensorFlow backend.\n"
          ],
          "name": "stderr"
        },
        {
          "output_type": "display_data",
          "data": {
            "text/html": [
              "<p style=\"color: red;\">\n",
              "The default version of TensorFlow in Colab will soon switch to TensorFlow 2.x.<br>\n",
              "We recommend you <a href=\"https://www.tensorflow.org/guide/migrate\" target=\"_blank\">upgrade</a> now \n",
              "or ensure your notebook will continue to use TensorFlow 1.x via the <code>%tensorflow_version 1.x</code> magic:\n",
              "<a href=\"https://colab.research.google.com/notebooks/tensorflow_version.ipynb\" target=\"_blank\">more info</a>.</p>\n"
            ],
            "text/plain": [
              "<IPython.core.display.HTML object>"
            ]
          },
          "metadata": {
            "tags": []
          }
        }
      ]
    },
    {
      "cell_type": "code",
      "metadata": {
        "id": "nZPxnHkD5f2D",
        "colab_type": "code",
        "colab": {}
      },
      "source": [
        "class_names = ['airplan', 'automobile', 'bird', 'cat', 'deer', 'dog', 'frog', 'horse', 'ship', 'truck']"
      ],
      "execution_count": 0,
      "outputs": []
    },
    {
      "cell_type": "code",
      "metadata": {
        "id": "UN8Xq0S65q73",
        "colab_type": "code",
        "colab": {}
      },
      "source": [
        "train_images = train_images / 255.0\n",
        "test_images = test_images / 255.0"
      ],
      "execution_count": 0,
      "outputs": []
    },
    {
      "cell_type": "code",
      "metadata": {
        "id": "Imygtsrl7oZc",
        "colab_type": "code",
        "colab": {}
      },
      "source": [
        "num_classes = 10\n",
        "train_labels = keras.utils.to_categorical(train_labels, num_classes)\n",
        "test_labels = keras.utils.to_categorical(test_labels, num_classes)"
      ],
      "execution_count": 0,
      "outputs": []
    },
    {
      "cell_type": "markdown",
      "metadata": {
        "colab_type": "text",
        "id": "DO_r7miFuqjL"
      },
      "source": [
        "#UNDERFIT"
      ]
    },
    {
      "cell_type": "code",
      "metadata": {
        "colab_type": "code",
        "id": "Og9vjoWkuqjM",
        "outputId": "86be48d4-b3be-4fdb-fe7f-a50099191faf",
        "colab": {
          "base_uri": "https://localhost:8080/",
          "height": 612
        }
      },
      "source": [
        "model = models.Sequential()\n",
        "model.add(layers.Conv2D(2, kernel_size=(20, 20), activation='relu', input_shape=(32, 32, 3)))\n",
        "model.add(layers.Dropout(.9))\n",
        "model.add(layers.Flatten())\n",
        "model.add(layers.Dense(10, activation='softmax'))\n",
        "\n",
        "\n",
        "model.compile(optimizer=optimizers.RMSprop(lr=1e-4),\n",
        "             loss='binary_crossentropy',\n",
        "             metrics=['accuracy'])\n",
        "\n",
        "model.summary()"
      ],
      "execution_count": 5,
      "outputs": [
        {
          "output_type": "stream",
          "text": [
            "WARNING:tensorflow:From /usr/local/lib/python3.6/dist-packages/keras/backend/tensorflow_backend.py:66: The name tf.get_default_graph is deprecated. Please use tf.compat.v1.get_default_graph instead.\n",
            "\n",
            "WARNING:tensorflow:From /usr/local/lib/python3.6/dist-packages/keras/backend/tensorflow_backend.py:541: The name tf.placeholder is deprecated. Please use tf.compat.v1.placeholder instead.\n",
            "\n",
            "WARNING:tensorflow:From /usr/local/lib/python3.6/dist-packages/keras/backend/tensorflow_backend.py:4432: The name tf.random_uniform is deprecated. Please use tf.random.uniform instead.\n",
            "\n",
            "WARNING:tensorflow:From /usr/local/lib/python3.6/dist-packages/keras/backend/tensorflow_backend.py:148: The name tf.placeholder_with_default is deprecated. Please use tf.compat.v1.placeholder_with_default instead.\n",
            "\n",
            "WARNING:tensorflow:From /usr/local/lib/python3.6/dist-packages/keras/backend/tensorflow_backend.py:3733: calling dropout (from tensorflow.python.ops.nn_ops) with keep_prob is deprecated and will be removed in a future version.\n",
            "Instructions for updating:\n",
            "Please use `rate` instead of `keep_prob`. Rate should be set to `rate = 1 - keep_prob`.\n",
            "WARNING:tensorflow:Large dropout rate: 0.9 (>0.5). In TensorFlow 2.x, dropout() uses dropout rate instead of keep_prob. Please ensure that this is intended.\n",
            "WARNING:tensorflow:From /usr/local/lib/python3.6/dist-packages/keras/optimizers.py:793: The name tf.train.Optimizer is deprecated. Please use tf.compat.v1.train.Optimizer instead.\n",
            "\n",
            "WARNING:tensorflow:From /usr/local/lib/python3.6/dist-packages/keras/backend/tensorflow_backend.py:3657: The name tf.log is deprecated. Please use tf.math.log instead.\n",
            "\n",
            "WARNING:tensorflow:From /usr/local/lib/python3.6/dist-packages/tensorflow_core/python/ops/nn_impl.py:183: where (from tensorflow.python.ops.array_ops) is deprecated and will be removed in a future version.\n",
            "Instructions for updating:\n",
            "Use tf.where in 2.0, which has the same broadcast rule as np.where\n",
            "Model: \"sequential_1\"\n",
            "_________________________________________________________________\n",
            "Layer (type)                 Output Shape              Param #   \n",
            "=================================================================\n",
            "conv2d_1 (Conv2D)            (None, 13, 13, 2)         2402      \n",
            "_________________________________________________________________\n",
            "dropout_1 (Dropout)          (None, 13, 13, 2)         0         \n",
            "_________________________________________________________________\n",
            "flatten_1 (Flatten)          (None, 338)               0         \n",
            "_________________________________________________________________\n",
            "dense_1 (Dense)              (None, 10)                3390      \n",
            "=================================================================\n",
            "Total params: 5,792\n",
            "Trainable params: 5,792\n",
            "Non-trainable params: 0\n",
            "_________________________________________________________________\n"
          ],
          "name": "stdout"
        }
      ]
    },
    {
      "cell_type": "code",
      "metadata": {
        "colab_type": "code",
        "id": "npOhqTAbuqjN",
        "outputId": "a83f6a7f-b428-4c18-d112-af7508a10aa6",
        "colab": {
          "base_uri": "https://localhost:8080/",
          "height": 986
        }
      },
      "source": [
        "# train the model\n",
        "epochs = 20\n",
        "history = model.fit(train_images, \n",
        "                      train_labels, \n",
        "                      epochs=epochs,  \n",
        "                      validation_data=(test_images, test_labels))"
      ],
      "execution_count": 6,
      "outputs": [
        {
          "output_type": "stream",
          "text": [
            "WARNING:tensorflow:From /usr/local/lib/python3.6/dist-packages/keras/backend/tensorflow_backend.py:1033: The name tf.assign_add is deprecated. Please use tf.compat.v1.assign_add instead.\n",
            "\n",
            "WARNING:tensorflow:From /usr/local/lib/python3.6/dist-packages/keras/backend/tensorflow_backend.py:1020: The name tf.assign is deprecated. Please use tf.compat.v1.assign instead.\n",
            "\n",
            "WARNING:tensorflow:From /usr/local/lib/python3.6/dist-packages/keras/backend/tensorflow_backend.py:3005: The name tf.Session is deprecated. Please use tf.compat.v1.Session instead.\n",
            "\n",
            "Train on 50000 samples, validate on 10000 samples\n",
            "Epoch 1/20\n",
            "WARNING:tensorflow:From /usr/local/lib/python3.6/dist-packages/keras/backend/tensorflow_backend.py:190: The name tf.get_default_session is deprecated. Please use tf.compat.v1.get_default_session instead.\n",
            "\n",
            "WARNING:tensorflow:From /usr/local/lib/python3.6/dist-packages/keras/backend/tensorflow_backend.py:197: The name tf.ConfigProto is deprecated. Please use tf.compat.v1.ConfigProto instead.\n",
            "\n",
            "WARNING:tensorflow:From /usr/local/lib/python3.6/dist-packages/keras/backend/tensorflow_backend.py:207: The name tf.global_variables is deprecated. Please use tf.compat.v1.global_variables instead.\n",
            "\n",
            "WARNING:tensorflow:From /usr/local/lib/python3.6/dist-packages/keras/backend/tensorflow_backend.py:216: The name tf.is_variable_initialized is deprecated. Please use tf.compat.v1.is_variable_initialized instead.\n",
            "\n",
            "WARNING:tensorflow:From /usr/local/lib/python3.6/dist-packages/keras/backend/tensorflow_backend.py:223: The name tf.variables_initializer is deprecated. Please use tf.compat.v1.variables_initializer instead.\n",
            "\n",
            "50000/50000 [==============================] - 10s 207us/step - loss: 0.3255 - acc: 0.8999 - val_loss: 0.3250 - val_acc: 0.9000\n",
            "Epoch 2/20\n",
            "50000/50000 [==============================] - 7s 146us/step - loss: 0.3250 - acc: 0.9000 - val_loss: 0.3229 - val_acc: 0.9000\n",
            "Epoch 3/20\n",
            "50000/50000 [==============================] - 7s 147us/step - loss: 0.3236 - acc: 0.9001 - val_loss: 0.3213 - val_acc: 0.9002\n",
            "Epoch 4/20\n",
            "50000/50000 [==============================] - 7s 144us/step - loss: 0.3197 - acc: 0.8999 - val_loss: 0.3120 - val_acc: 0.9000\n",
            "Epoch 5/20\n",
            "50000/50000 [==============================] - 7s 146us/step - loss: 0.3150 - acc: 0.8994 - val_loss: 0.3083 - val_acc: 0.9001\n",
            "Epoch 6/20\n",
            "50000/50000 [==============================] - 7s 145us/step - loss: 0.3111 - acc: 0.8995 - val_loss: 0.3035 - val_acc: 0.8999\n",
            "Epoch 7/20\n",
            "50000/50000 [==============================] - 7s 144us/step - loss: 0.3086 - acc: 0.8994 - val_loss: 0.3030 - val_acc: 0.9000\n",
            "Epoch 8/20\n",
            "50000/50000 [==============================] - 7s 143us/step - loss: 0.3062 - acc: 0.8994 - val_loss: 0.2992 - val_acc: 0.9000\n",
            "Epoch 9/20\n",
            "50000/50000 [==============================] - 7s 145us/step - loss: 0.3049 - acc: 0.8994 - val_loss: 0.3034 - val_acc: 0.9001\n",
            "Epoch 10/20\n",
            "50000/50000 [==============================] - 7s 145us/step - loss: 0.3035 - acc: 0.8995 - val_loss: 0.2972 - val_acc: 0.9000\n",
            "Epoch 11/20\n",
            "50000/50000 [==============================] - 7s 145us/step - loss: 0.3024 - acc: 0.8996 - val_loss: 0.2949 - val_acc: 0.9000\n",
            "Epoch 12/20\n",
            "50000/50000 [==============================] - 7s 145us/step - loss: 0.3016 - acc: 0.8996 - val_loss: 0.2943 - val_acc: 0.9000\n",
            "Epoch 13/20\n",
            "50000/50000 [==============================] - 7s 145us/step - loss: 0.3009 - acc: 0.8996 - val_loss: 0.2937 - val_acc: 0.9000\n",
            "Epoch 14/20\n",
            "50000/50000 [==============================] - 7s 144us/step - loss: 0.3006 - acc: 0.8996 - val_loss: 0.2924 - val_acc: 0.9001\n",
            "Epoch 15/20\n",
            "50000/50000 [==============================] - 7s 146us/step - loss: 0.3001 - acc: 0.8997 - val_loss: 0.2925 - val_acc: 0.9000\n",
            "Epoch 16/20\n",
            "50000/50000 [==============================] - 7s 144us/step - loss: 0.2996 - acc: 0.8997 - val_loss: 0.2920 - val_acc: 0.9001\n",
            "Epoch 17/20\n",
            "50000/50000 [==============================] - 7s 144us/step - loss: 0.2994 - acc: 0.8997 - val_loss: 0.2919 - val_acc: 0.9000\n",
            "Epoch 18/20\n",
            "50000/50000 [==============================] - 7s 145us/step - loss: 0.2991 - acc: 0.8998 - val_loss: 0.3053 - val_acc: 0.9001\n",
            "Epoch 19/20\n",
            "50000/50000 [==============================] - 7s 145us/step - loss: 0.2993 - acc: 0.8996 - val_loss: 0.2973 - val_acc: 0.8999\n",
            "Epoch 20/20\n",
            "50000/50000 [==============================] - 7s 144us/step - loss: 0.2989 - acc: 0.8996 - val_loss: 0.3000 - val_acc: 0.9001\n"
          ],
          "name": "stdout"
        }
      ]
    },
    {
      "cell_type": "code",
      "metadata": {
        "colab_type": "code",
        "id": "550yXALBuqjQ",
        "outputId": "c65a7fad-7ad1-4287-ac02-b4c6442d0211",
        "colab": {
          "base_uri": "https://localhost:8080/",
          "height": 51
        }
      },
      "source": [
        "test_loss, test_acc = model.evaluate(test_images, test_labels)\n",
        "\n",
        "print('Test accuracy:', test_acc)"
      ],
      "execution_count": 7,
      "outputs": [
        {
          "output_type": "stream",
          "text": [
            "10000/10000 [==============================] - 1s 70us/step\n",
            "Test accuracy: 0.900059976387024\n"
          ],
          "name": "stdout"
        }
      ]
    },
    {
      "cell_type": "code",
      "metadata": {
        "colab_type": "code",
        "id": "SMzxUfGZuqjS",
        "colab": {}
      },
      "source": [
        "history_dict = history.history\n",
        "loss_values = history_dict['loss']\n",
        "test_loss_values = history_dict['val_loss']\n",
        "epochs_range = range(1, epochs+1)"
      ],
      "execution_count": 0,
      "outputs": []
    },
    {
      "cell_type": "code",
      "metadata": {
        "colab_type": "code",
        "id": "E9x2iNuIuqjV",
        "outputId": "01663451-a70c-4e6c-892d-ca755fd6faff",
        "colab": {
          "base_uri": "https://localhost:8080/",
          "height": 295
        }
      },
      "source": [
        "plt.plot(epochs_range, loss_values, 'bo', label='Training loss')\n",
        "plt.plot(epochs_range, test_loss_values, 'ro', label='Test loss')\n",
        "plt.title('Training and test loss')\n",
        "plt.xlabel('Epochs')\n",
        "plt.ylabel('Loss')\n",
        "plt.legend()\n",
        "plt.show()"
      ],
      "execution_count": 9,
      "outputs": [
        {
          "output_type": "display_data",
          "data": {
            "image/png": "[encoded data removed]",
            "text/plain": [
              "<Figure size 432x288 with 1 Axes>"
            ]
          },
          "metadata": {
            "tags": []
          }
        }
      ]
    },
    {
      "cell_type": "code",
      "metadata": {
        "colab_type": "code",
        "id": "gC6NqWS0uqjY",
        "colab": {}
      },
      "source": [
        "acc_values = history_dict['acc']\n",
        "test_acc_values = history_dict['val_acc']"
      ],
      "execution_count": 0,
      "outputs": []
    },
    {
      "cell_type": "code",
      "metadata": {
        "colab_type": "code",
        "id": "ndZMuWNRuqja",
        "outputId": "5f9317dd-9c01-4afb-af6f-0a4b7de95b01",
        "colab": {
          "base_uri": "https://localhost:8080/",
          "height": 295
        }
      },
      "source": [
        "plt.plot(epochs_range, acc_values, 'bo', label='Training accuracy')\n",
        "plt.plot(epochs_range, test_acc_values, 'ro', label='Test accuracy')\n",
        "plt.title('Training and test accuracy')\n",
        "plt.xlabel('Epochs')\n",
        "plt.ylabel('Accuracy')\n",
        "plt.legend()\n",
        "plt.show()"
      ],
      "execution_count": 11,
      "outputs": [
        {
          "output_type": "display_data",
          "data": {
            "image/png": "[encoded data removed]",
            "text/plain": [
              "<Figure size 432x288 with 1 Axes>"
            ]
          },
          "metadata": {
            "tags": []
          }
        }
      ]
    },
    {
      "cell_type": "markdown",
      "metadata": {
        "id": "8WoaZ89OxjQH",
        "colab_type": "text"
      },
      "source": [
        "Even though the printed accuracy values from each epoch show that there is a high test accuracy (roughly 90% for each epoch), the plot proves that the cnn cannot make sense of the training or test data."
      ]
    },
    {
      "cell_type": "markdown",
      "metadata": {
        "id": "tycolgV1kltq",
        "colab_type": "text"
      },
      "source": [
        "#OVERFIT"
      ]
    },
    {
      "cell_type": "code",
      "metadata": {
        "id": "LNIR-H5r5you",
        "colab_type": "code",
        "colab": {
          "base_uri": "https://localhost:8080/",
          "height": 357
        },
        "outputId": "474f8bde-13a8-4a92-8d4f-9af5c0452c05"
      },
      "source": [
        "model = models.Sequential()\n",
        "model.add(layers.Conv2D(64, kernel_size=(3, 3), activation='relu', input_shape=(32, 32, 3)))\n",
        "model.add(layers.Conv2D(32, kernel_size=(3, 3), activation='relu'))\n",
        "model.add(layers.Conv2D(16, kernel_size=(3, 3), activation='relu'))\n",
        "model.add(layers.Flatten())\n",
        "model.add(layers.Dense(32, activation='relu'))\n",
        "model.add(layers.Dense(10, activation='softmax'))\n",
        "\n",
        "\n",
        "model.compile(optimizer=optimizers.RMSprop(lr=1e-4),\n",
        "             loss='binary_crossentropy',\n",
        "             metrics=['accuracy'])\n",
        "\n",
        "model.summary()"
      ],
      "execution_count": 12,
      "outputs": [
        {
          "output_type": "stream",
          "text": [
            "Model: \"sequential_2\"\n",
            "_________________________________________________________________\n",
            "Layer (type)                 Output Shape              Param #   \n",
            "=================================================================\n",
            "conv2d_2 (Conv2D)            (None, 30, 30, 64)        1792      \n",
            "_________________________________________________________________\n",
            "conv2d_3 (Conv2D)            (None, 28, 28, 32)        18464     \n",
            "_________________________________________________________________\n",
            "conv2d_4 (Conv2D)            (None, 26, 26, 16)        4624      \n",
            "_________________________________________________________________\n",
            "flatten_2 (Flatten)          (None, 10816)             0         \n",
            "_________________________________________________________________\n",
            "dense_2 (Dense)              (None, 32)                346144    \n",
            "_________________________________________________________________\n",
            "dense_3 (Dense)              (None, 10)                330       \n",
            "=================================================================\n",
            "Total params: 371,354\n",
            "Trainable params: 371,354\n",
            "Non-trainable params: 0\n",
            "_________________________________________________________________\n"
          ],
          "name": "stdout"
        }
      ]
    },
    {
      "cell_type": "code",
      "metadata": {
        "id": "LU0QGL-c6wWx",
        "colab_type": "code",
        "colab": {
          "base_uri": "https://localhost:8080/",
          "height": 714
        },
        "outputId": "df549c8a-4282-4c96-c667-6f805f5e2171"
      },
      "source": [
        "# train the model\n",
        "epochs = 20\n",
        "history = model.fit(train_images, \n",
        "                      train_labels, \n",
        "                      epochs=epochs,  \n",
        "                      validation_data=(test_images, test_labels))"
      ],
      "execution_count": 13,
      "outputs": [
        {
          "output_type": "stream",
          "text": [
            "Train on 50000 samples, validate on 10000 samples\n",
            "Epoch 1/20\n",
            "50000/50000 [==============================] - 11s 212us/step - loss: 0.2561 - acc: 0.9060 - val_loss: 0.2345 - val_acc: 0.9114\n",
            "Epoch 2/20\n",
            "50000/50000 [==============================] - 10s 202us/step - loss: 0.2181 - acc: 0.9159 - val_loss: 0.2098 - val_acc: 0.9181\n",
            "Epoch 3/20\n",
            "50000/50000 [==============================] - 10s 200us/step - loss: 0.2024 - acc: 0.9216 - val_loss: 0.2046 - val_acc: 0.9207\n",
            "Epoch 4/20\n",
            "50000/50000 [==============================] - 10s 197us/step - loss: 0.1926 - acc: 0.9255 - val_loss: 0.1962 - val_acc: 0.9227\n",
            "Epoch 5/20\n",
            "50000/50000 [==============================] - 10s 199us/step - loss: 0.1850 - acc: 0.9281 - val_loss: 0.1910 - val_acc: 0.9251\n",
            "Epoch 6/20\n",
            "50000/50000 [==============================] - 10s 197us/step - loss: 0.1785 - acc: 0.9309 - val_loss: 0.1888 - val_acc: 0.9257\n",
            "Epoch 7/20\n",
            "50000/50000 [==============================] - 10s 198us/step - loss: 0.1721 - acc: 0.9336 - val_loss: 0.1809 - val_acc: 0.9290\n",
            "Epoch 8/20\n",
            "50000/50000 [==============================] - 10s 198us/step - loss: 0.1661 - acc: 0.9360 - val_loss: 0.1772 - val_acc: 0.9307\n",
            "Epoch 9/20\n",
            "50000/50000 [==============================] - 10s 199us/step - loss: 0.1600 - acc: 0.9383 - val_loss: 0.1778 - val_acc: 0.9302\n",
            "Epoch 10/20\n",
            "50000/50000 [==============================] - 10s 199us/step - loss: 0.1545 - acc: 0.9408 - val_loss: 0.1836 - val_acc: 0.9295\n",
            "Epoch 11/20\n",
            "50000/50000 [==============================] - 10s 200us/step - loss: 0.1497 - acc: 0.9426 - val_loss: 0.1717 - val_acc: 0.9327\n",
            "Epoch 12/20\n",
            "50000/50000 [==============================] - 10s 200us/step - loss: 0.1450 - acc: 0.9444 - val_loss: 0.1704 - val_acc: 0.9320\n",
            "Epoch 13/20\n",
            "50000/50000 [==============================] - 10s 199us/step - loss: 0.1409 - acc: 0.9463 - val_loss: 0.1625 - val_acc: 0.9365\n",
            "Epoch 14/20\n",
            "50000/50000 [==============================] - 10s 204us/step - loss: 0.1372 - acc: 0.9474 - val_loss: 0.1658 - val_acc: 0.9348\n",
            "Epoch 15/20\n",
            "50000/50000 [==============================] - 10s 201us/step - loss: 0.1334 - acc: 0.9491 - val_loss: 0.1639 - val_acc: 0.9362\n",
            "Epoch 16/20\n",
            "50000/50000 [==============================] - 10s 199us/step - loss: 0.1299 - acc: 0.9507 - val_loss: 0.1646 - val_acc: 0.9360\n",
            "Epoch 17/20\n",
            "50000/50000 [==============================] - 10s 198us/step - loss: 0.1266 - acc: 0.9520 - val_loss: 0.1682 - val_acc: 0.9347\n",
            "Epoch 18/20\n",
            "50000/50000 [==============================] - 10s 199us/step - loss: 0.1234 - acc: 0.9535 - val_loss: 0.1611 - val_acc: 0.9379\n",
            "Epoch 19/20\n",
            "50000/50000 [==============================] - 10s 200us/step - loss: 0.1202 - acc: 0.9547 - val_loss: 0.1702 - val_acc: 0.9339\n",
            "Epoch 20/20\n",
            "50000/50000 [==============================] - 10s 199us/step - loss: 0.1174 - acc: 0.9559 - val_loss: 0.1721 - val_acc: 0.9340\n"
          ],
          "name": "stdout"
        }
      ]
    },
    {
      "cell_type": "code",
      "metadata": {
        "id": "WvYRMK9s67rG",
        "colab_type": "code",
        "colab": {
          "base_uri": "https://localhost:8080/",
          "height": 51
        },
        "outputId": "db3162b3-e402-49a8-b409-16f0f5ec9769"
      },
      "source": [
        "test_loss, test_acc = model.evaluate(test_images, test_labels)\n",
        "\n",
        "print('Test accuracy:', test_acc)"
      ],
      "execution_count": 14,
      "outputs": [
        {
          "output_type": "stream",
          "text": [
            "10000/10000 [==============================] - 1s 79us/step\n",
            "Test accuracy: 0.9340199964523316\n"
          ],
          "name": "stdout"
        }
      ]
    },
    {
      "cell_type": "code",
      "metadata": {
        "id": "mBrRb6LA68nW",
        "colab_type": "code",
        "colab": {}
      },
      "source": [
        "history_dict = history.history\n",
        "loss_values = history_dict['loss']\n",
        "test_loss_values = history_dict['val_loss']\n",
        "epochs_range = range(1, epochs+1)"
      ],
      "execution_count": 0,
      "outputs": []
    },
    {
      "cell_type": "code",
      "metadata": {
        "id": "2t7ezBcy7AXg",
        "colab_type": "code",
        "colab": {
          "base_uri": "https://localhost:8080/",
          "height": 295
        },
        "outputId": "4faf2045-e5d8-46dc-8eeb-efc9afe71303"
      },
      "source": [
        "plt.plot(epochs_range, loss_values, 'bo', label='Training loss')\n",
        "plt.plot(epochs_range, test_loss_values, 'ro', label='Test loss')\n",
        "plt.title('Training and test loss')\n",
        "plt.xlabel('Epochs')\n",
        "plt.ylabel('Loss')\n",
        "plt.legend()\n",
        "plt.show()"
      ],
      "execution_count": 16,
      "outputs": [
        {
          "output_type": "display_data",
          "data": {
            "image/png": "[encoded data removed]",
            "text/plain": [
              "<Figure size 432x288 with 1 Axes>"
            ]
          },
          "metadata": {
            "tags": []
          }
        }
      ]
    },
    {
      "cell_type": "code",
      "metadata": {
        "id": "T9_K_Uw2k_nJ",
        "colab_type": "code",
        "colab": {}
      },
      "source": [
        "acc_values = history_dict['acc']\n",
        "test_acc_values = history_dict['val_acc']"
      ],
      "execution_count": 0,
      "outputs": []
    },
    {
      "cell_type": "code",
      "metadata": {
        "id": "M8n6V_nmlBie",
        "colab_type": "code",
        "colab": {
          "base_uri": "https://localhost:8080/",
          "height": 295
        },
        "outputId": "3a6d1929-ae15-4bd1-b524-c7e629548973"
      },
      "source": [
        "plt.plot(epochs_range, acc_values, 'bo', label='Training accuracy')\n",
        "plt.plot(epochs_range, test_acc_values, 'ro', label='Test accuracy')\n",
        "plt.title('Training and test accuracy')\n",
        "plt.xlabel('Epochs')\n",
        "plt.ylabel('Accuracy')\n",
        "plt.legend()\n",
        "plt.show()"
      ],
      "execution_count": 18,
      "outputs": [
        {
          "output_type": "display_data",
          "data": {
            "image/png": "[encoded data removed]",
            "text/plain": [
              "<Figure size 432x288 with 1 Axes>"
            ]
          },
          "metadata": {
            "tags": []
          }
        }
      ]
    },
    {
      "cell_type": "markdown",
      "metadata": {
        "id": "mNqKXUfGkpok",
        "colab_type": "text"
      },
      "source": [
        "#PRETTY GOOD MODEL"
      ]
    },
    {
      "cell_type": "code",
      "metadata": {
        "id": "kiib0pAKks1n",
        "colab_type": "code",
        "colab": {
          "base_uri": "https://localhost:8080/",
          "height": 935
        },
        "outputId": "47c867be-4f4b-4096-9048-e707d4ed87fc"
      },
      "source": [
        "model = models.Sequential()\n",
        "\n",
        "model.add(layers.Conv2D(32, (3, 3), activation='relu', input_shape=(32, 32, 3)))\n",
        "model.add(layers.BatchNormalization())\n",
        "model.add(layers.Conv2D(32, (3, 3), activation='relu'))\n",
        "model.add(layers.BatchNormalization())\n",
        "model.add(layers.MaxPooling2D())\n",
        "model.add(layers.Dropout(.2))\n",
        "model.add(layers.Conv2D(64, (3, 3), activation='relu'))\n",
        "model.add(layers.BatchNormalization())\n",
        "model.add(layers.Conv2D(64, (3, 3), activation='relu'))\n",
        "model.add(layers.MaxPooling2D())\n",
        "model.add(layers.Dropout(.3))\n",
        "model.add(layers.Conv2D(128, (3, 3), activation='relu'))\n",
        "model.add(layers.BatchNormalization())\n",
        "model.add(layers.Conv2D(128, (3, 3), activation='relu'))\n",
        "model.add(layers.BatchNormalization())\n",
        "#model.add(layers.MaxPooling2D())\n",
        "model.add(layers.Dropout(.4))\n",
        "model.add(layers.Flatten())\n",
        "model.add(layers.Dense(128, activation='relu'))\n",
        "model.add(layers.BatchNormalization())\n",
        "model.add(layers.Dropout(.5))\n",
        "model.add(layers.Dense(10, activation='softmax'))\n",
        "\n",
        "# compile the model\n",
        "\n",
        "model.compile(optimizer=optimizers.RMSprop(lr=1e-4),\n",
        "             loss='binary_crossentropy',\n",
        "             metrics=['accuracy'])\n",
        "\n",
        "model.summary()"
      ],
      "execution_count": 19,
      "outputs": [
        {
          "output_type": "stream",
          "text": [
            "WARNING:tensorflow:From /usr/local/lib/python3.6/dist-packages/keras/backend/tensorflow_backend.py:2041: The name tf.nn.fused_batch_norm is deprecated. Please use tf.compat.v1.nn.fused_batch_norm instead.\n",
            "\n",
            "WARNING:tensorflow:From /usr/local/lib/python3.6/dist-packages/keras/backend/tensorflow_backend.py:4267: The name tf.nn.max_pool is deprecated. Please use tf.nn.max_pool2d instead.\n",
            "\n",
            "Model: \"sequential_3\"\n",
            "_________________________________________________________________\n",
            "Layer (type)                 Output Shape              Param #   \n",
            "=================================================================\n",
            "conv2d_5 (Conv2D)            (None, 30, 30, 32)        896       \n",
            "_________________________________________________________________\n",
            "batch_normalization_1 (Batch (None, 30, 30, 32)        128       \n",
            "_________________________________________________________________\n",
            "conv2d_6 (Conv2D)            (None, 28, 28, 32)        9248      \n",
            "_________________________________________________________________\n",
            "batch_normalization_2 (Batch (None, 28, 28, 32)        128       \n",
            "_________________________________________________________________\n",
            "max_pooling2d_1 (MaxPooling2 (None, 14, 14, 32)        0         \n",
            "_________________________________________________________________\n",
            "dropout_2 (Dropout)          (None, 14, 14, 32)        0         \n",
            "_________________________________________________________________\n",
            "conv2d_7 (Conv2D)            (None, 12, 12, 64)        18496     \n",
            "_________________________________________________________________\n",
            "batch_normalization_3 (Batch (None, 12, 12, 64)        256       \n",
            "_________________________________________________________________\n",
            "conv2d_8 (Conv2D)            (None, 10, 10, 64)        36928     \n",
            "_________________________________________________________________\n",
            "max_pooling2d_2 (MaxPooling2 (None, 5, 5, 64)          0         \n",
            "_________________________________________________________________\n",
            "dropout_3 (Dropout)          (None, 5, 5, 64)          0         \n",
            "_________________________________________________________________\n",
            "conv2d_9 (Conv2D)            (None, 3, 3, 128)         73856     \n",
            "_________________________________________________________________\n",
            "batch_normalization_4 (Batch (None, 3, 3, 128)         512       \n",
            "_________________________________________________________________\n",
            "conv2d_10 (Conv2D)           (None, 1, 1, 128)         147584    \n",
            "_________________________________________________________________\n",
            "batch_normalization_5 (Batch (None, 1, 1, 128)         512       \n",
            "_________________________________________________________________\n",
            "dropout_4 (Dropout)          (None, 1, 1, 128)         0         \n",
            "_________________________________________________________________\n",
            "flatten_3 (Flatten)          (None, 128)               0         \n",
            "_________________________________________________________________\n",
            "dense_4 (Dense)              (None, 128)               16512     \n",
            "_________________________________________________________________\n",
            "batch_normalization_6 (Batch (None, 128)               512       \n",
            "_________________________________________________________________\n",
            "dropout_5 (Dropout)          (None, 128)               0         \n",
            "_________________________________________________________________\n",
            "dense_5 (Dense)              (None, 10)                1290      \n",
            "=================================================================\n",
            "Total params: 306,858\n",
            "Trainable params: 305,834\n",
            "Non-trainable params: 1,024\n",
            "_________________________________________________________________\n"
          ],
          "name": "stdout"
        }
      ]
    },
    {
      "cell_type": "code",
      "metadata": {
        "id": "kt0ui_ODkwV3",
        "colab_type": "code",
        "colab": {
          "base_uri": "https://localhost:8080/",
          "height": 714
        },
        "outputId": "1ec181e9-a180-414f-8b01-d9f378a9bbb3"
      },
      "source": [
        "# train the model\n",
        "epochs = 20\n",
        "history = model.fit(train_images, \n",
        "                      train_labels, \n",
        "                      epochs=epochs,  \n",
        "                      validation_data=(test_images, test_labels))"
      ],
      "execution_count": 20,
      "outputs": [
        {
          "output_type": "stream",
          "text": [
            "Train on 50000 samples, validate on 10000 samples\n",
            "Epoch 1/20\n",
            "50000/50000 [==============================] - 20s 410us/step - loss: 0.3692 - acc: 0.8804 - val_loss: 0.2574 - val_acc: 0.9032\n",
            "Epoch 2/20\n",
            "50000/50000 [==============================] - 19s 382us/step - loss: 0.2870 - acc: 0.8955 - val_loss: 0.2266 - val_acc: 0.9122\n",
            "Epoch 3/20\n",
            "50000/50000 [==============================] - 19s 379us/step - loss: 0.2484 - acc: 0.9061 - val_loss: 0.2207 - val_acc: 0.9142\n",
            "Epoch 4/20\n",
            "50000/50000 [==============================] - 19s 386us/step - loss: 0.2244 - acc: 0.9142 - val_loss: 0.1983 - val_acc: 0.9224\n",
            "Epoch 5/20\n",
            "50000/50000 [==============================] - 19s 379us/step - loss: 0.2078 - acc: 0.9202 - val_loss: 0.1808 - val_acc: 0.9284\n",
            "Epoch 6/20\n",
            "50000/50000 [==============================] - 19s 379us/step - loss: 0.1953 - acc: 0.9247 - val_loss: 0.1699 - val_acc: 0.9332\n",
            "Epoch 7/20\n",
            "50000/50000 [==============================] - 19s 380us/step - loss: 0.1850 - acc: 0.9289 - val_loss: 0.1621 - val_acc: 0.9365\n",
            "Epoch 8/20\n",
            "50000/50000 [==============================] - 19s 382us/step - loss: 0.1787 - acc: 0.9311 - val_loss: 0.1565 - val_acc: 0.9384\n",
            "Epoch 9/20\n",
            "50000/50000 [==============================] - 19s 378us/step - loss: 0.1711 - acc: 0.9344 - val_loss: 0.1568 - val_acc: 0.9394\n",
            "Epoch 10/20\n",
            "50000/50000 [==============================] - 19s 378us/step - loss: 0.1649 - acc: 0.9367 - val_loss: 0.1456 - val_acc: 0.9429\n",
            "Epoch 11/20\n",
            "50000/50000 [==============================] - 19s 377us/step - loss: 0.1587 - acc: 0.9386 - val_loss: 0.1440 - val_acc: 0.9441\n",
            "Epoch 12/20\n",
            "50000/50000 [==============================] - 19s 381us/step - loss: 0.1541 - acc: 0.9407 - val_loss: 0.1384 - val_acc: 0.9464\n",
            "Epoch 13/20\n",
            "50000/50000 [==============================] - 19s 387us/step - loss: 0.1497 - acc: 0.9426 - val_loss: 0.1343 - val_acc: 0.9472\n",
            "Epoch 14/20\n",
            "50000/50000 [==============================] - 19s 382us/step - loss: 0.1453 - acc: 0.9444 - val_loss: 0.1256 - val_acc: 0.9509\n",
            "Epoch 15/20\n",
            "50000/50000 [==============================] - 19s 377us/step - loss: 0.1419 - acc: 0.9458 - val_loss: 0.1241 - val_acc: 0.9517\n",
            "Epoch 16/20\n",
            "50000/50000 [==============================] - 19s 381us/step - loss: 0.1377 - acc: 0.9471 - val_loss: 0.1235 - val_acc: 0.9521\n",
            "Epoch 17/20\n",
            "50000/50000 [==============================] - 19s 381us/step - loss: 0.1342 - acc: 0.9490 - val_loss: 0.1243 - val_acc: 0.9513\n",
            "Epoch 18/20\n",
            "50000/50000 [==============================] - 19s 378us/step - loss: 0.1318 - acc: 0.9498 - val_loss: 0.1177 - val_acc: 0.9546\n",
            "Epoch 19/20\n",
            "50000/50000 [==============================] - 19s 377us/step - loss: 0.1295 - acc: 0.9506 - val_loss: 0.1196 - val_acc: 0.9533\n",
            "Epoch 20/20\n",
            "50000/50000 [==============================] - 19s 379us/step - loss: 0.1257 - acc: 0.9524 - val_loss: 0.1120 - val_acc: 0.9569\n"
          ],
          "name": "stdout"
        }
      ]
    },
    {
      "cell_type": "code",
      "metadata": {
        "id": "Et6hiUBtky8R",
        "colab_type": "code",
        "colab": {
          "base_uri": "https://localhost:8080/",
          "height": 51
        },
        "outputId": "cb259a3c-172d-447a-8781-74e1bdff4090"
      },
      "source": [
        "test_loss, test_acc = model.evaluate(test_images, test_labels)\n",
        "\n",
        "print('Test accuracy:', test_acc)"
      ],
      "execution_count": 21,
      "outputs": [
        {
          "output_type": "stream",
          "text": [
            "10000/10000 [==============================] - 1s 109us/step\n",
            "Test accuracy: 0.956909994316101\n"
          ],
          "name": "stdout"
        }
      ]
    },
    {
      "cell_type": "code",
      "metadata": {
        "id": "yWbhru0ck4G4",
        "colab_type": "code",
        "colab": {}
      },
      "source": [
        "history_dict = history.history\n",
        "loss_values = history_dict['loss']\n",
        "test_loss_values = history_dict['val_loss']\n",
        "epochs_range = range(1, epochs+1)"
      ],
      "execution_count": 0,
      "outputs": []
    },
    {
      "cell_type": "code",
      "metadata": {
        "id": "fQqYbJw-k8Qv",
        "colab_type": "code",
        "outputId": "718c684a-e656-442e-82b8-eb1019397a04",
        "colab": {
          "base_uri": "https://localhost:8080/",
          "height": 295
        }
      },
      "source": [
        "plt.plot(epochs_range, loss_values, 'bo', label='Training loss')\n",
        "plt.plot(epochs_range, test_loss_values, 'ro', label='Test loss')\n",
        "plt.title('Training and test loss')\n",
        "plt.xlabel('Epochs')\n",
        "plt.ylabel('Loss')\n",
        "plt.legend()\n",
        "plt.show()"
      ],
      "execution_count": 23,
      "outputs": [
        {
          "output_type": "display_data",
          "data": {
            "image/png": "[encoded data removed]",
            "text/plain": [
              "<Figure size 432x288 with 1 Axes>"
            ]
          },
          "metadata": {
            "tags": []
          }
        }
      ]
    },
    {
      "cell_type": "code",
      "metadata": {
        "id": "MkkMTkDqscrz",
        "colab_type": "code",
        "colab": {}
      },
      "source": [
        "acc_values = history_dict['acc']\n",
        "test_acc_values = history_dict['val_acc']"
      ],
      "execution_count": 0,
      "outputs": []
    },
    {
      "cell_type": "code",
      "metadata": {
        "id": "SF8tJBOrseVz",
        "colab_type": "code",
        "outputId": "2ee56c50-0617-4e2a-c691-53062669ff20",
        "colab": {
          "base_uri": "https://localhost:8080/",
          "height": 295
        }
      },
      "source": [
        "plt.plot(epochs_range, acc_values, 'bo', label='Training accuracy')\n",
        "plt.plot(epochs_range, test_acc_values, 'ro', label='Test accuracy')\n",
        "plt.title('Training and test accuracy')\n",
        "plt.xlabel('Epochs')\n",
        "plt.ylabel('Accuracy')\n",
        "plt.legend()\n",
        "plt.show()"
      ],
      "execution_count": 25,
      "outputs": [
        {
          "output_type": "display_data",
          "data": {
            "image/png": "[encoded data removed]",
            "text/plain": [
              "<Figure size 432x288 with 1 Axes>"
            ]
          },
          "metadata": {
            "tags": []
          }
        }
      ]
    }
  ]
}